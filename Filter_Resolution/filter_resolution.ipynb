{
  "nbformat": 4,
  "nbformat_minor": 0,
  "metadata": {
    "colab": {
      "provenance": []
    },
    "kernelspec": {
      "name": "python3",
      "display_name": "Python 3"
    },
    "language_info": {
      "name": "python"
    }
  },
  "cells": [
    {
      "cell_type": "code",
      "execution_count": null,
      "metadata": {
        "id": "IFC-mXd8ju-2"
      },
      "outputs": [],
      "source": [
        "#Install Biopython\n",
        "!pip install Biopython"
      ]
    },
    {
      "cell_type": "code",
      "source": [
        "#Download resolutions infos\n",
        "!wget https://files.wwpdb.org/pub/pdb/derived_data/index/resolu.idx"
      ],
      "metadata": {
        "id": "-cuI6QRflsUQ"
      },
      "execution_count": null,
      "outputs": []
    },
    {
      "cell_type": "code",
      "source": [
        "import pandas as pd\n",
        "import os\n",
        "import shutil\n",
        "\n",
        "# Read the 'resolu.idx' file and process it manually\n",
        "with open('resolu.idx', 'r') as file:\n",
        "    lines = file.readlines()\n",
        "\n",
        "# Skip header and separator lines (lines 0, 1, 2 and 3)\n",
        "data_lines = lines[4:]\n",
        "\n",
        "# Process each line to extract IDCODE and RESOLUTION\n",
        "data = []\n",
        "for line in data_lines:\n",
        "    line = line.strip()  # Remove leading/trailing whitespace\n",
        "    if not line:  # If line is empty, skip\n",
        "        continue\n",
        "    # Split by ';' and remove extra spaces\n",
        "    parts = [x.strip() for x in line.split(';')]\n",
        "    if len(parts) >= 2:  # Ensure both IDCODE and RESOLUTION exist\n",
        "        idcode = parts[0]\n",
        "        resolution = parts[1]\n",
        "        data.append([idcode, resolution])\n",
        "\n",
        "# Create DataFrame\n",
        "df_resolu = pd.DataFrame(data, columns=['IDCODE', 'RESOLUTION'])\n",
        "\n",
        "# Convert RESOLUTION to numeric (if it's still a string)\n",
        "df_resolu['RESOLUTION'] = pd.to_numeric(df_resolu['RESOLUTION'], errors='coerce')\n",
        "\n",
        "# Remove invalid rows (if any)\n",
        "df_resolu = df_resolu.dropna()\n",
        "\n",
        "def filter_pdb_by_resolution_from_dataframe(\n",
        "    input_folder,\n",
        "    output_folder_below,\n",
        "    output_folder_above,\n",
        "    threshold,\n",
        "    df_resolu\n",
        "):\n",
        "    \"\"\"\n",
        "    Filters PDB files based on resolution values from the DataFrame `df_resolu`.\n",
        "\n",
        "    Args:\n",
        "        input_folder (str): Folder containing original PDB files.\n",
        "        output_folder_below (str): Folder for PDBs with resolution <= threshold.\n",
        "        output_folder_above (str): Folder for PDBs with resolution > threshold.\n",
        "        threshold (float): Resolution cutoff value.\n",
        "        df_resolu (pd.DataFrame): DataFrame with 'IDCODE' and 'RESOLUTION' columns.\n",
        "    \"\"\"\n",
        "    # Create output folders if they don't exist\n",
        "    os.makedirs(output_folder_below, exist_ok=True)\n",
        "    os.makedirs(output_folder_above, exist_ok=True)\n",
        "\n",
        "    # Create dictionary mapping IDCODE (uppercase, 4 chars) -> RESOLUTION\n",
        "    resolution_map = {\n",
        "        row['IDCODE'][:4].upper(): row['RESOLUTION']\n",
        "        for _, row in df_resolu.iterrows()\n",
        "    }\n",
        "\n",
        "    # Process each PDB file in input folder\n",
        "    for filename in os.listdir(input_folder):\n",
        "        if filename.endswith(\".pdb\"):\n",
        "            # Get first 4 characters of filename (uppercase)\n",
        "            pdb_id = filename[:4].upper()\n",
        "\n",
        "            # Check if PDB exists in our resolution data\n",
        "            if pdb_id in resolution_map:\n",
        "                resolution = resolution_map[pdb_id]\n",
        "                src_path = os.path.join(input_folder, filename)\n",
        "\n",
        "                # Determine destination folder based on resolution\n",
        "                if resolution <= threshold:\n",
        "                    dest_path = os.path.join(output_folder_below, filename)\n",
        "                else:\n",
        "                    dest_path = os.path.join(output_folder_above, filename)\n",
        "\n",
        "                # Move the file (using shutil.move instead of copy)\n",
        "                shutil.move(src_path, dest_path)\n",
        "            else:\n",
        "                print(f\"PDB {pdb_id} not found in PDB resolution list.\")\n",
        "\n",
        "if __name__ == \"__main__\":\n",
        "    # Configuration settings\n",
        "    input_folder = \"/content/\"          # Folder containing original PDB files\n",
        "    output_folder_below = \"./pdb_up_to_4A\"   # Resolution <= 4.0 Å\n",
        "    output_folder_above = \"./pdb_above_4A\"   # Resolution > 4.0 Å\n",
        "    threshold = 4.0                        # Resolution threshold\n",
        "\n",
        "    # Execute filtering\n",
        "    filter_pdb_by_resolution_from_dataframe(\n",
        "        input_folder,\n",
        "        output_folder_below,\n",
        "        output_folder_above,\n",
        "        threshold,\n",
        "        df_resolu  # DataFrame created earlier\n",
        "    )\n",
        "    print(\"Filtering complete!\")"
      ],
      "metadata": {
        "colab": {
          "base_uri": "https://localhost:8080/"
        },
        "id": "VOIGneQV1QPN",
        "outputId": "b62e264b-c6c3-48b0-e9c1-9115a862f17d"
      },
      "execution_count": 15,
      "outputs": [
        {
          "output_type": "stream",
          "name": "stdout",
          "text": [
            "PDB 1ABC not found in PDB resolution list.\n",
            "Filtering complete!\n"
          ]
        }
      ]
    }
  ]
}